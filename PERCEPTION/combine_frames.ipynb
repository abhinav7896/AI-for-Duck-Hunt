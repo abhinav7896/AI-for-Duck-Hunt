{
 "cells": [
  {
   "cell_type": "code",
   "execution_count": 11,
   "metadata": {},
   "outputs": [],
   "source": [
    "import cv2\n",
    "import os\n",
    "\n",
    "image_folder1 = './raw'\n",
    "image_folder2 = './detection'\n",
    "video_name = 'D:\\\\Projects\\\\Aimbot for Duck Hunt\\\\aimbot\\\\video3.mp4'\n",
    "\n",
    "images1 = [img for img in os.listdir(image_folder1) if img.endswith(\".jpg\")]\n",
    "images2 = [img for img in os.listdir(image_folder2) if img.endswith(\".jpg\")]\n",
    "\n",
    "# images = images1 + images2\n",
    "\n",
    "# print(len(images))\n",
    "\n",
    "frame = cv2.imread(os.path.join(image_folder1, images1[0]))\n",
    "height, width, layers = frame.shape\n",
    "\n",
    "fourcc = cv2.VideoWriter_fourcc(*'MP4V')\n",
    "\n",
    "video = cv2.VideoWriter(video_name, fourcc, 20, (width,height))\n",
    "\n",
    "for image in images1:\n",
    "    video.write(cv2.imread(os.path.join(image_folder1, image)))\n",
    "\n",
    "for image in images2:\n",
    "    video.write(cv2.imread(os.path.join(image_folder2, image)))\n",
    "\n",
    "cv2.destroyAllWindows()\n",
    "video.release()"
   ]
  },
  {
   "cell_type": "code",
   "execution_count": 9,
   "metadata": {},
   "outputs": [],
   "source": [
    "x = [2,3]\n",
    "y = [3,4]\n",
    "\n",
    "x.extend(y)"
   ]
  },
  {
   "cell_type": "code",
   "execution_count": 23,
   "metadata": {},
   "outputs": [],
   "source": [
    "import glob\n",
    "import os\n",
    "def clear_folder(path):\n",
    "    files = glob.glob(path)\n",
    "    for f in files:\n",
    "        os.remove(f)\n",
    "\n",
    "# Start!\n",
    "path = './detection/*'\n",
    "clear_folder(path)"
   ]
  },
  {
   "cell_type": "code",
   "execution_count": null,
   "metadata": {},
   "outputs": [],
   "source": []
  }
 ],
 "metadata": {
  "kernelspec": {
   "display_name": "Python 3",
   "language": "python",
   "name": "python3"
  },
  "language_info": {
   "codemirror_mode": {
    "name": "ipython",
    "version": 3
   },
   "file_extension": ".py",
   "mimetype": "text/x-python",
   "name": "python",
   "nbconvert_exporter": "python",
   "pygments_lexer": "ipython3",
   "version": "3.8.3"
  }
 },
 "nbformat": 4,
 "nbformat_minor": 4
}
